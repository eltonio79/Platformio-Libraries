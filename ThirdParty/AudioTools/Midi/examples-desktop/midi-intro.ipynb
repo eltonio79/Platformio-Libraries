{
 "cells": [
  {
   "cell_type": "markdown",
   "metadata": {},
   "source": [
    "# Using MIDI with Python\n",
    "\n",
    "MIDI keyboards nowadays usually have USB support and offer a separate MIDI port. Some modern keyboards even support Bluetooth.  To use either USB or a MIDI connector is usually quite challenging for a microcontroller. So the easiest is usually to connect the Keyboard to your desktop computer and then the computer to the microcontroller:\n",
    "\n",
    "Here we present a couple of python scripts that usually just consist of a few lines of code that can be executed on your desktop in order to manage the communication with the Arduino MIDI library.\n",
    "We provide a demo for \n",
    "\n",
    "- Serial Devices \n",
    "- TCP/IP\n",
    "- UDP\n",
    "\n",
    "But first you need to install all relevant libraries:"
   ]
  },
  {
   "cell_type": "code",
   "execution_count": null,
   "metadata": {},
   "outputs": [],
   "source": [
    "!pip3 install --upgrade pip mido python-rtmidi "
   ]
  },
  {
   "cell_type": "markdown",
   "metadata": {},
   "source": []
  },
  {
   "cell_type": "markdown",
   "metadata": {},
   "source": [
    "Now we can list all MIDI input devices that are available to us:"
   ]
  },
  {
   "cell_type": "code",
   "execution_count": null,
   "metadata": {},
   "outputs": [],
   "source": [
    "import mido\n",
    "mido.get_input_names()"
   ]
  },
  {
   "cell_type": "markdown",
   "metadata": {},
   "source": []
  }
 ],
 "metadata": {
  "interpreter": {
   "hash": "aee8b7b246df8f9039afb4144a1f6fd8d2ca17a180786b69acc140d282b71a49"
  },
  "kernelspec": {
   "display_name": "Python 3.9.6 64-bit",
   "language": "python",
   "name": "python3"
  },
  "language_info": {
   "codemirror_mode": {
    "name": "ipython",
    "version": 3
   },
   "file_extension": ".py",
   "mimetype": "text/x-python",
   "name": "python",
   "nbconvert_exporter": "python",
   "pygments_lexer": "ipython3",
   "version": "3.9.6"
  },
  "orig_nbformat": 4
 },
 "nbformat": 4,
 "nbformat_minor": 2
}
