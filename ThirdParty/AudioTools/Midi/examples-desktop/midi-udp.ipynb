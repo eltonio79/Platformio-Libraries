{
 "cells": [
  {
   "cell_type": "markdown",
   "metadata": {},
   "source": [
    "## Sending MIDI to the Arduino UDP Server\n",
    "\n",
    "If we have deployed the MidiUDPServer sketch we can send MIDO messages to Arduino:"
   ]
  },
  {
   "cell_type": "code",
   "execution_count": null,
   "metadata": {},
   "outputs": [],
   "source": [
    "import mido\n",
    "import socket\n",
    "\n",
    "UDP_IP = \"192.168.1.44\"\n",
    "UDP_PORT = 5008\n",
    "sock = socket.socket(socket.AF_INET, socket.SOCK_DGRAM) \n",
    "\n",
    "inport = mido.open_input('Q61')\n",
    "for msg in inport:\n",
    "    print(msg)\n",
    "    sock.sendto(msg.bin(), (UDP_IP, UDP_PORT))\n"
   ]
  },
  {
   "cell_type": "markdown",
   "metadata": {},
   "source": [
    "## Receiving MIDI from the Arduino UDP Server\n",
    "\n",
    "If we have deployed the MidiUDPServer sketch we can also receive MIDI messages from Arduino:"
   ]
  },
  {
   "cell_type": "code",
   "execution_count": null,
   "metadata": {},
   "outputs": [],
   "source": [
    "import mido\n",
    "import socket \n",
    "\n",
    "UDP_IP = \"192.168.1.44\"\n",
    "UDP_PORT = 5008\n",
    "    \n",
    "sock = socket.socket(socket.AF_INET, socket.SOCK_DGRAM) \n",
    "sock.bind((UDP_IP, UDP_PORT))\n",
    "while True:\n",
    "    data, addr = sock.recvfrom(20) # buffer size in bytes\n",
    "    midi = mido.Message.from_bytes(data)\n",
    "    print(midi)"
   ]
  }
 ],
 "metadata": {
  "interpreter": {
   "hash": "aee8b7b246df8f9039afb4144a1f6fd8d2ca17a180786b69acc140d282b71a49"
  },
  "kernelspec": {
   "display_name": "Python 3.9.6 64-bit",
   "language": "python",
   "name": "python3"
  },
  "language_info": {
   "codemirror_mode": {
    "name": "ipython",
    "version": 3
   },
   "file_extension": ".py",
   "mimetype": "text/x-python",
   "name": "python",
   "nbconvert_exporter": "python",
   "pygments_lexer": "ipython3",
   "version": "3.9.6"
  },
  "orig_nbformat": 4
 },
 "nbformat": 4,
 "nbformat_minor": 2
}
