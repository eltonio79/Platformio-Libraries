{
 "cells": [
  {
   "cell_type": "markdown",
   "metadata": {},
   "source": [
    "## Sending MIDI to the Arduino TCP Server\n",
    "\n",
    "If we have deployed the MidiUDPServer sketch we can send MIDO messages to Arduino:"
   ]
  },
  {
   "cell_type": "code",
   "execution_count": null,
   "metadata": {},
   "outputs": [],
   "source": [
    "import mido\n",
    "from mido.sockets import connect\n",
    "\n",
    "TCP_IP = \"192.168.1.44\"\n",
    "TCP_PORT = 5008\n",
    "\n",
    "output = connect(TCP_IP, TCP_PORT);\n",
    "\n",
    "inport = mido.open_input('Q61')\n",
    "for msg in inport:\n",
    "    print(msg)\n",
    "    output.send(msg)\n"
   ]
  },
  {
   "cell_type": "markdown",
   "metadata": {},
   "source": [
    "## Receiving MIDI from the Arduino TCP Server\n",
    "\n",
    "If we have deployed the MidiUDPServer sketch we can also receive MIDI messages from Arduino:"
   ]
  },
  {
   "cell_type": "code",
   "execution_count": null,
   "metadata": {},
   "outputs": [],
   "source": [
    "import mido\n",
    "from mido.sockets import connect\n",
    "\n",
    "TCP_IP = \"192.168.1.44\"\n",
    "TCP_PORT = 5008\n",
    "    \n",
    "for message in connect(TCP_IP, TCP_PORT):\n",
    "    print(message)"
   ]
  }
 ],
 "metadata": {
  "interpreter": {
   "hash": "aee8b7b246df8f9039afb4144a1f6fd8d2ca17a180786b69acc140d282b71a49"
  },
  "kernelspec": {
   "display_name": "Python 3.9.6 64-bit",
   "language": "python",
   "name": "python3"
  },
  "language_info": {
   "codemirror_mode": {
    "name": "ipython",
    "version": 3
   },
   "file_extension": ".py",
   "mimetype": "text/x-python",
   "name": "python",
   "nbconvert_exporter": "python",
   "pygments_lexer": "ipython3",
   "version": "3.9.6"
  },
  "orig_nbformat": 4
 },
 "nbformat": 4,
 "nbformat_minor": 2
}
