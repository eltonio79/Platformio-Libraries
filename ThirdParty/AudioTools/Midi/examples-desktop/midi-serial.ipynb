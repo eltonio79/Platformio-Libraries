{
 "cells": [
  {
   "cell_type": "markdown",
   "metadata": {},
   "source": [
    "## Writing MIDI to a Serial Device\n",
    "\n",
    "We write MIDI Messages via a serial device. The corresponding MidiFromSerial Arduino Sketch to read and process the MIDI messages"
   ]
  },
  {
   "cell_type": "code",
   "execution_count": null,
   "metadata": {},
   "outputs": [],
   "source": [
    "from serial.tools import list_ports\n",
    "for port in list_ports.comports():\n",
    "    print(port)\n"
   ]
  },
  {
   "cell_type": "code",
   "execution_count": null,
   "metadata": {},
   "outputs": [],
   "source": [
    "import mido\n",
    "import serial\n",
    "\n",
    "serial_port = '/dev/USB0'\n",
    "midi_name = 'Q61'\n",
    "\n",
    "ser = serial.Serial(serial_port)  # open serial port\n",
    "print(ser.is_open)\n",
    "input = mido.open_input(midi_name)\n",
    "for msg in input:\n",
    "    print(msg)\n",
    "    if not ser.is_open:\n",
    "         ser.open()\n",
    "    ser.write(msg.bin())\n"
   ]
  },
  {
   "cell_type": "markdown",
   "metadata": {},
   "source": [
    "## Reading MIDI from a Serial Device\n",
    "\n",
    "If we have deployed the MidiToSerial sketch we can also receive MIDI messages from Arduino:"
   ]
  },
  {
   "cell_type": "code",
   "execution_count": null,
   "metadata": {},
   "outputs": [],
   "source": [
    "import mido\n",
    "import serial\n",
    "\n",
    "ser = serial.Serial('/dev/tty.AudioKitBT-ESP32SPP')  # open serial port\n",
    "parser = mido.Parser()\n",
    "\n",
    "while True:\n",
    "    parser.feed_byte(ser.read())\n",
    "    if parser.pending():\n",
    "        msg = p.get_message()\n",
    "        print(msg)"
   ]
  }
 ],
 "metadata": {
  "interpreter": {
   "hash": "aee8b7b246df8f9039afb4144a1f6fd8d2ca17a180786b69acc140d282b71a49"
  },
  "kernelspec": {
   "display_name": "Python 3.9.6 64-bit",
   "language": "python",
   "name": "python3"
  },
  "language_info": {
   "codemirror_mode": {
    "name": "ipython",
    "version": 3
   },
   "file_extension": ".py",
   "mimetype": "text/x-python",
   "name": "python",
   "nbconvert_exporter": "python",
   "pygments_lexer": "ipython3",
   "version": "3.9.6"
  },
  "orig_nbformat": 4
 },
 "nbformat": 4,
 "nbformat_minor": 2
}
